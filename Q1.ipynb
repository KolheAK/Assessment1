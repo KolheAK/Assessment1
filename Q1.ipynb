{
 "cells": [
  {
   "cell_type": "code",
   "execution_count": 8,
   "id": "8ef60ce8",
   "metadata": {},
   "outputs": [
    {
     "name": "stdout",
     "output_type": "stream",
     "text": [
      "Not found\n"
     ]
    }
   ],
   "source": [
    "## Question 1\n",
    "\n",
    "M = 3\n",
    "N = 4\n",
    "\n",
    "# Binary Search for 1 D Array \n",
    "\n",
    "def binarySearch1D(arr, K):\n",
    "    low = 0\n",
    "    high = N - 1\n",
    "    while (low <= high):\n",
    "        mid = low + int((high - low) / 2)\n",
    "        # if element found return true\n",
    "        if (arr[mid] == K):\n",
    "            return True\n",
    "        # if middle less than K then skip the left part of the array \n",
    "        # else skip the right part\n",
    "\n",
    "        if (arr[mid] < K):\n",
    "            low = mid + 1\n",
    "        else:\n",
    "            high = mid - 1\n",
    "\n",
    "# if not found return false\n",
    "\n",
    "        return False\n",
    "\n",
    "# Function to search an element in a matrix \n",
    "\n",
    "def searchMatrix(matrix, K):\n",
    "    low = 0\n",
    "    high = M - 1\n",
    "    while (low <= high):\n",
    "        mid = low + int((high - low) / 2)\n",
    "\n",
    "        # if the element lies in the range of this row then call binary search for this row\n",
    "        \n",
    "        if (K >= matrix[mid][0] and K <= matrix[mid][N - 1]):\n",
    "            return binarySearch1D(matrix[mid], K)\n",
    "\n",
    "        # if the element is less than the starting element of that row then search in upper rows else search\n",
    "        # in the lower rows\n",
    "        if (K < matrix[mid][0]):\n",
    "            high = mid - 1\n",
    "        else:\n",
    "            low = mid + 1\n",
    "\n",
    "# if not found\n",
    "    return False\n",
    "\n",
    "\n",
    "matrix = [[1, 3, 5, 7],\n",
    "[10, 11, 16, 20],\n",
    "[23, 30, 34, 50]]\n",
    "K = 35\n",
    "if (searchMatrix(matrix, K)):\n",
    "    print(\"Found\")\n",
    "else:\n",
    "        print(\"Not found\")\n"
   ]
  },
  {
   "cell_type": "code",
   "execution_count": null,
   "id": "1da9cfb8",
   "metadata": {},
   "outputs": [],
   "source": []
  }
 ],
 "metadata": {
  "kernelspec": {
   "display_name": "Python 3 (ipykernel)",
   "language": "python",
   "name": "python3"
  },
  "language_info": {
   "codemirror_mode": {
    "name": "ipython",
    "version": 3
   },
   "file_extension": ".py",
   "mimetype": "text/x-python",
   "name": "python",
   "nbconvert_exporter": "python",
   "pygments_lexer": "ipython3",
   "version": "3.11.5"
  }
 },
 "nbformat": 4,
 "nbformat_minor": 5
}
